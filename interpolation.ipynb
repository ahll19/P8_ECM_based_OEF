{
 "cells": [
  {
   "cell_type": "code",
   "execution_count": 2,
   "metadata": {
    "ExecuteTime": {
     "start_time": "2023-05-03T15:53:10.355729Z",
     "end_time": "2023-05-03T15:53:10.359813Z"
    }
   },
   "outputs": [],
   "source": [
    "import numpy as np\n",
    "import matplotlib.pyplot as plt\n",
    "import pandas as pd"
   ]
  },
  {
   "cell_type": "code",
   "execution_count": 9,
   "metadata": {
    "ExecuteTime": {
     "start_time": "2023-05-03T15:54:21.218607Z",
     "end_time": "2023-05-03T15:54:21.277393Z"
    }
   },
   "outputs": [],
   "source": [
    "files = 'instance/small case/IES_E9H12G7-v1.xlsx'\n",
    "excel = pd.read_excel(files, sheet_name=None)"
   ]
  },
  {
   "cell_type": "code",
   "execution_count": 10,
   "metadata": {
    "ExecuteTime": {
     "start_time": "2023-05-03T15:54:22.402412Z",
     "end_time": "2023-05-03T15:54:22.404510Z"
    }
   },
   "outputs": [],
   "source": [
    "def interpolate_load(data: pd.DataFrame, len_multiply: int, save_path: str, save: bool = True) -> dict:\n",
    "    \"\"\"Interpolate load data to a new length.\n",
    "\n",
    "    Args:\n",
    "        data (pd.DataFrame): A dataframe that has 'wind', 'eLoad', 'hLoad', 'gLoad' as keys.\n",
    "        len_multiply (int): amount of points in between each data point\n",
    "    \n",
    "    Returns:\n",
    "        Saves the interpolated data to csv files in the specified save_path.\n",
    "        It saves files for each key in data.\n",
    "        returns a dictionary with the interpolated data.\n",
    "    \"\"\"\n",
    "    if save_path[-4:] == '.csv':\n",
    "        save_path = save_path[:-4]\n",
    "    if save_path[-1] == '/':\n",
    "        save_path = save_path[:-1]\n",
    "    \n",
    "    new_len = int(len(data['wind']) * len_multiply)\n",
    "\n",
    "    excel = {}\n",
    "    t = np.arange(1, new_len//2 + 1)\n",
    "    time = np.concatenate((-t[::-1], t))\n",
    "\n",
    "    changes = ['wind', 'eLoad', 'hLoad', 'gLoad']\n",
    "    for key in changes:\n",
    "        csv_dir = {}\n",
    "        csv_dir['time'] = time\n",
    "        for bus in data[key].keys()[1:]:\n",
    "            dat = data[key][bus].values\n",
    "            inter = np.full(new_len, np.nan)\n",
    "            inter[::2] = dat\n",
    "            csv_dir[bus] = inter\n",
    "        \n",
    "        new_excel = pd.DataFrame(csv_dir).interpolate(method='polynomial', order=2).fillna(method='ffill')\n",
    "        if save == True:\n",
    "            new_excel.to_csv(save_path+'/'+key+'.csv', index=False)\n",
    "\n",
    "        excel[key] = new_excel\n",
    "\n",
    "        \n",
    "    \n",
    "    return excel\n",
    "\n",
    "def interpolated_excel(data: pd.DataFrame, len_multiply: int, save_path: str, filename: str) -> None:\n",
    "    \"\"\"\n",
    "    Interpolates the data and saves it to an excel file.\n",
    "\n",
    "    Args:\n",
    "        data (pd.DataFrame): A dataframe that consists of entire excel file.\n",
    "        len_multiply (int): amount of points in between each data point\n",
    "        save_path (str): path to save the excel file\n",
    "        filename (str): name of the excel file\n",
    "    \"\"\"\n",
    "    if save_path[-1] != '/':\n",
    "        save_path += '/'\n",
    "    if filename[-5:] != '.xlsx':\n",
    "        filename += '.xlsx'\n",
    "    loads = interpolate_load(data, len_multiply, save_path, save=False)\n",
    "    for key in loads.keys():\n",
    "        data[key] = pd.DataFrame(loads[key])\n",
    "    \n",
    "    with pd.ExcelWriter(save_path+filename) as writer:\n",
    "        for sheet_name in excel.keys():\n",
    "            excel[sheet_name].to_excel(writer, sheet_name=sheet_name, index=False)\n",
    "\n"
   ]
  },
  {
   "cell_type": "code",
   "execution_count": 11,
   "metadata": {
    "ExecuteTime": {
     "start_time": "2023-05-03T15:54:23.353668Z",
     "end_time": "2023-05-03T15:54:23.419279Z"
    }
   },
   "outputs": [],
   "source": [
    "interpolated_excel(excel, 2, 'instance/small case', 'v3.xlsx')"
   ]
  }
 ],
 "metadata": {
  "kernelspec": {
   "display_name": "uni_python",
   "language": "python",
   "name": "python3"
  },
  "language_info": {
   "codemirror_mode": {
    "name": "ipython",
    "version": 3
   },
   "file_extension": ".py",
   "mimetype": "text/x-python",
   "name": "python",
   "nbconvert_exporter": "python",
   "pygments_lexer": "ipython3",
   "version": "3.10.10"
  },
  "orig_nbformat": 4
 },
 "nbformat": 4,
 "nbformat_minor": 2
}
