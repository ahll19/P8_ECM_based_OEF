{
 "cells": [
  {
   "cell_type": "code",
   "execution_count": 5,
   "metadata": {},
   "outputs": [],
   "source": [
    "from results import Comparer, Result\n",
    "import matplotlib.pyplot as plt\n",
    "import numpy as np"
   ]
  },
  {
   "cell_type": "code",
   "execution_count": 6,
   "metadata": {},
   "outputs": [],
   "source": [
    "def sort_dir(path: str) -> np.ndarray:\n",
    "    import os\n",
    "\n",
    "    dir_res = os.listdir(path)\n",
    "\n",
    "    order = np.zeros(len(dir_res), dtype=int)\n",
    "    for i, file in enumerate(dir_res):\n",
    "        tmp = file.split(\"_\")[0]\n",
    "        if tmp == \"None\":\n",
    "            order[i] = 9999\n",
    "        else:\n",
    "            order[i] = int(tmp)\n",
    "    \n",
    "    dir_res = np.array(dir_res, dtype=\"object\")\n",
    "    return dir_res[np.array(np.argsort(order))]\n",
    "\n",
    "def show_plotter(axes, plt, title: str = None, xlabel: str = None, ylabel: str = None, legend: bool = False, log: bool = False, save: bool = False, save_path: str = None) -> None:\n",
    "    if title is not None:\n",
    "        plt.title(title)\n",
    "\n",
    "    for ax in axes:\n",
    "        if xlabel is not None:\n",
    "            ax.set_xlabel(xlabel)\n",
    "        if ylabel is not None:\n",
    "            ax.set_ylabel(ylabel)\n",
    "        if log:\n",
    "            ax.set_yscale(\"log\")\n",
    "    if legend:\n",
    "        plt.legend(loc=\"upper right\")\n",
    "    plt.tight_layout()\n",
    "    if save:\n",
    "        plt.savefig(save_path)\n",
    "    plt.show()"
   ]
  },
  {
   "cell_type": "code",
   "execution_count": 7,
   "metadata": {},
   "outputs": [],
   "source": [
    "path = \"results/runs/IES_E9H12G7-v1/\"\n",
    "all_results = sort_dir(path)\n",
    "\n",
    "res = Result(path=path+all_results[0])\n",
    "res_og = Result(path=path+all_results[-1])\n",
    "\n",
    "x_axis = np.zeros(len(all_results)-1, dtype=int)\n",
    "cost_diff = np.zeros(len(all_results)-1)\n",
    "reference_cost = res_og.optimal_cost\n",
    "for i, file in enumerate(all_results[:-1]):\n",
    "    res = Result(path=path+file)\n",
    "    x_axis[i] = int(file.split(\"_\")[0])\n",
    "    cost_diff[i] = reference_cost - res.optimal_cost\n",
    "\n",
    "small_effect_idx = np.where(cost_diff < 1)[0][0]\n",
    "\n",
    "fig, ax = plt.subplots()\n",
    "ax.plot(x_axis[:], cost_diff[:], '.', label=\"Cost difference\", color=\"blue\")\n",
    "\n",
    "chosen_points = [len(cost_diff)-1, small_effect_idx, 8, 10]\n",
    "ax.plot(x_axis[chosen_points], cost_diff[chosen_points], '.', color=\"red\", label=\"Chosen points\")\n",
    "\n",
    "save = False\n",
    "show_plotter(\n",
    "    [ax], \n",
    "    plt, \n",
    "    xlabel='Length of frequency content',\n",
    "    ylabel=\"Cost difference\", \n",
    "    legend=True, \n",
    "    save=save, \n",
    "    save_path=\"results/fig/cost_diff.png\"\n",
    ")"
   ]
  },
  {
   "cell_type": "code",
   "execution_count": 8,
   "metadata": {},
   "outputs": [],
   "source": [
    "chosen_points.append(28)\n",
    "for point in chosen_points:\n",
    "    res = Result(path=path+all_results[point])\n",
    "    comp = Comparer([res_og, res])\n",
    "    comp.compare_all()\n",
    "    comp.visualize_comparison(save_path=f\"results/fig/compare_keep{point+1}.png\")"
   ]
  },
  {
   "cell_type": "code",
   "execution_count": 9,
   "metadata": {},
   "outputs": [],
   "source": [
    "energy_heat = np.zeros((len(all_results)-1, 2))\n",
    "energy_gas = np.zeros((len(all_results)-1, 2))\n",
    "for i, file in enumerate(all_results[:-1]):\n",
    "    res = Result(path=path+file)\n",
    "    energy_heat[i] = list(res.heat_energy_diff[0])\n",
    "    energy_gas[i] = list(res.gas_energy_diff[0])"
   ]
  },
  {
   "cell_type": "code",
   "execution_count": 10,
   "metadata": {},
   "outputs": [],
   "source": [
    "fig, ax1 = plt.subplots()\n",
    "# log scale y axis\n",
    "ax2 = ax1.twinx()\n",
    "ax1.set_yscale('log')\n",
    "ax2.set_yscale('log')\n",
    "\n",
    "ln1 = ax1.plot(x_axis, energy_heat[0,0]-energy_heat[:,1], 'g.', label=\"Heat energy\", markersize=5, alpha=0.5)\n",
    "ln2 = ax2.plot(x_axis, energy_gas[0,0]-energy_gas[:,1], 'b.', label=\"Gas energy\", markersize=5, alpha=0.5)\n",
    "\n",
    "ax1.set_xlabel('Length of frequency content')\n",
    "ax1.set_ylabel('Heat energy', color='g')\n",
    "ax2.set_ylabel('Gas energy', color='b')\n",
    "\n",
    "ln3 = ax1.plot(x_axis[28], energy_heat[28,0]-energy_heat[28,1], '.', color='darkorange', markersize=5, label=\"New chosen point\")\n",
    "ax2.plot(x_axis[28], energy_gas[28,0]-energy_gas[28,1], '.', color='darkorange',markersize=5)\n",
    "\n",
    "ln4 = ax1.plot(x_axis[chosen_points], energy_heat[0,0]-energy_heat[chosen_points,1], 'r.', markersize=5, label=\"Old chosen points\")\n",
    "ax2.plot(x_axis[chosen_points], energy_gas[0,0]-energy_gas[chosen_points,1], 'r.', markersize=5)\n",
    "\n",
    "lns = ln1+ln2+ln3+ln4\n",
    "labs = [l.get_label() for l in lns]\n",
    "ax1.legend(lns, labs, loc=\"upper right\")\n",
    "show_plotter(\n",
    "    [ax1, ax2], \n",
    "    plt, \n",
    "    save=True, \n",
    "    save_path=\"results/fig/energy_diff.png\", \n",
    "    title=\"Energy difference vs. frequency content length\",\n",
    ")"
   ]
  },
  {
   "cell_type": "code",
   "execution_count": 11,
   "metadata": {},
   "outputs": [],
   "source": [
    "l = np.zeros(len(all_results))\n",
    "for i, file in enumerate(all_results):\n",
    "    res = Result(path=path+file)\n",
    "    l[i] = int(res.description[-1])"
   ]
  },
  {
   "cell_type": "code",
   "execution_count": 16,
   "metadata": {},
   "outputs": [],
   "source": [
    "plt.figure(figsize=(10,5))\n",
    "x_axis = np.arange(1, len(l)+1)\n",
    "plt.plot(x_axis, l, '.', color='blue', label=\"All points\")\n",
    "plt.plot(x_axis[chosen_points], l[chosen_points], '.', color='red', label=\"Chosen points\")\n",
    "plt.xlabel(\"Length of frequency content\")\n",
    "plt.ylabel(\"Iteration count\")\n",
    "plt.legend(loc=\"lower right\")\n",
    "plt.tight_layout()\n",
    "plt.savefig(\"results/fig/iteration_count.png\")\n",
    "plt.show()"
   ]
  },
  {
   "cell_type": "code",
   "execution_count": 13,
   "metadata": {},
   "outputs": [],
   "source": [
    "cost_diff"
   ]
  },
  {
   "cell_type": "code",
   "execution_count": 14,
   "metadata": {},
   "outputs": [],
   "source": [
    "float(3.74589612e+02)"
   ]
  },
  {
   "cell_type": "code",
   "execution_count": 14,
   "metadata": {},
   "outputs": [],
   "source": []
  }
 ],
 "metadata": {
  "kernelspec": {
   "display_name": "uni_python",
   "language": "python",
   "name": "python3"
  },
  "language_info": {
   "codemirror_mode": {
    "name": "ipython",
    "version": 3
   },
   "file_extension": ".py",
   "mimetype": "text/x-python",
   "name": "python",
   "nbconvert_exporter": "python",
   "pygments_lexer": "ipython3",
   "version": "3.10.10"
  },
  "orig_nbformat": 4
 },
 "nbformat": 4,
 "nbformat_minor": 2
}
