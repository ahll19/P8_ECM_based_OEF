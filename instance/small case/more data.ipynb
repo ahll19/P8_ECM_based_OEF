{
 "cells": [
  {
   "cell_type": "code",
   "execution_count": 17,
   "metadata": {
    "collapsed": true,
    "ExecuteTime": {
     "start_time": "2023-05-03T11:08:31.697994Z",
     "end_time": "2023-05-03T11:08:31.865509Z"
    }
   },
   "outputs": [],
   "source": [
    "import pandas as pd\n",
    "import numpy as np\n",
    "import matplotlib.pyplot as plt"
   ]
  },
  {
   "cell_type": "code",
   "execution_count": null,
   "outputs": [],
   "source": [
    "# lav lister over sheet navne og column navne, og så lineær interpoler eftersom at flipping ikke virker"
   ],
   "metadata": {
    "collapsed": false
   }
  },
  {
   "cell_type": "code",
   "execution_count": 52,
   "outputs": [],
   "source": [
    "df = pd.read_excel(\"IES_E9H12G7-v1.xlsx\", sheet_name=\"eLoad\")\n",
    "new_time = np.concatenate([\n",
    "    np.arange(-96*2, 0), np.arange(1, 96*2+1)\n",
    "])\n",
    "bus5 = np.concatenate([\n",
    "    np.flip(df[\"bus5(MW)\"].values), df[\"bus5(MW)\"].values\n",
    "])\n",
    "bus7 = np.concatenate([\n",
    "    np.flip(df[\"bus7(MW)\"].values), df[\"bus7(MW)\"].values\n",
    "])\n",
    "bus9 = np.concatenate([\n",
    "    np.flip(df[\"bus9(MW)\"].values), df[\"bus9(MW)\"].values\n",
    "])\n",
    "\n",
    "new_df = pd.DataFrame({\n",
    "    \"time\": new_time,\n",
    "    \"bus5\": bus5,\n",
    "    \"bus7\": bus7,\n",
    "    \"bus9\": bus9\n",
    "})\n",
    "\n",
    "new_df.to_csv(\"eLoad.csv\", index=False)"
   ],
   "metadata": {
    "collapsed": false,
    "ExecuteTime": {
     "start_time": "2023-05-03T11:20:15.267209Z",
     "end_time": "2023-05-03T11:20:15.284325Z"
    }
   }
  },
  {
   "cell_type": "code",
   "execution_count": 51,
   "outputs": [],
   "source": [
    "df = pd.read_excel(\"IES_E9H12G7-v1.xlsx\", sheet_name=\"hLoad\")\n",
    "new_time = np.concatenate([\n",
    "    np.arange(-96*2, 0), np.arange(1, 96*2+1)\n",
    "])\n",
    "pipe11 = np.concatenate([\n",
    "    np.flip(df[\"pipe11(MW)\"].values), df[\"pipe11(MW)\"].values\n",
    "])\n",
    "pipe12 = np.concatenate([\n",
    "    np.flip(df[\"pipe12(MW)\"].values), df[\"pipe12(MW)\"].values\n",
    "])\n",
    "\n",
    "new_df = pd.DataFrame({\n",
    "    \"time\": new_time,\n",
    "    \"pipe11\": pipe11,\n",
    "    \"pipe12\": pipe12\n",
    "})\n",
    "\n",
    "new_df.to_csv(\"hLoad.csv\", index=False)"
   ],
   "metadata": {
    "collapsed": false,
    "ExecuteTime": {
     "start_time": "2023-05-03T11:20:14.423548Z",
     "end_time": "2023-05-03T11:20:14.455001Z"
    }
   }
  },
  {
   "cell_type": "code",
   "execution_count": 50,
   "outputs": [],
   "source": [
    "df = pd.read_excel(\"IES_E9H12G7-v1.xlsx\", sheet_name=\"gLoad\")\n",
    "new_time = np.concatenate([\n",
    "    np.arange(-96*2, 0), np.arange(1, 96*2+1)\n",
    "])\n",
    "node5 = np.concatenate([\n",
    "    np.flip(df[\"node5(kg/s)\"].values), df[\"node5(kg/s)\"].values\n",
    "])\n",
    "\n",
    "new_df = pd.DataFrame({\n",
    "    \"time\": new_time,\n",
    "    \"node5\": node5\n",
    "})\n",
    "\n",
    "new_df.to_csv(\"gLoad.csv\", index=False)"
   ],
   "metadata": {
    "collapsed": false,
    "ExecuteTime": {
     "start_time": "2023-05-03T11:20:13.682411Z",
     "end_time": "2023-05-03T11:20:13.739678Z"
    }
   }
  },
  {
   "cell_type": "code",
   "execution_count": 55,
   "outputs": [],
   "source": [
    "df = pd.read_excel(\"IES_E9H12G7-v1.xlsx\", sheet_name=\"wind\")\n",
    "new_time = np.concatenate([\n",
    "    np.arange(-96*2, 0), np.arange(1, 96*2+1)\n",
    "])\n",
    "bus3 = np.concatenate([\n",
    "    np.flip(df[\"bus3(MW)\"].values), df[\"bus3(MW)\"].values\n",
    "])\n",
    "\n",
    "new_df = pd.DataFrame({\n",
    "    \"time\": new_time,\n",
    "    \"node5\": node5\n",
    "})\n",
    "\n",
    "new_df.to_csv(\"wind.csv\", index=False)"
   ],
   "metadata": {
    "collapsed": false,
    "ExecuteTime": {
     "start_time": "2023-05-03T11:33:26.585228Z",
     "end_time": "2023-05-03T11:33:26.604444Z"
    }
   }
  }
 ],
 "metadata": {
  "kernelspec": {
   "display_name": "Python 3",
   "language": "python",
   "name": "python3"
  },
  "language_info": {
   "codemirror_mode": {
    "name": "ipython",
    "version": 2
   },
   "file_extension": ".py",
   "mimetype": "text/x-python",
   "name": "python",
   "nbconvert_exporter": "python",
   "pygments_lexer": "ipython2",
   "version": "2.7.6"
  }
 },
 "nbformat": 4,
 "nbformat_minor": 0
}
