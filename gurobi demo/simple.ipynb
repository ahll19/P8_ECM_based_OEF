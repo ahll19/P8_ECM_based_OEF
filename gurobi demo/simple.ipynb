{
 "cells": [
  {
   "attachments": {
    "image.png": {
     "image/png": "[encoded data removed]"
    }
   },
   "cell_type": "markdown",
   "metadata": {},
   "source": [
    "# Example\n",
    "To illustrate the process by which the Gurobi optimizer interfaces with the Python code of this project we use this example. The example is taken from the Gurobi documentation *kilde*.\n",
    "\n",
    "In this example we want to produce the maximal amount value of coins, using a certain amount of raw materials. How much material is used by different types of coins is given by the following table.\n",
    "![image.png](attachment:image.png)\n",
    "We assume that we have 1000 grams of copper, and 50 grams of every other material. We then want to create the maximal dollar value possible using the materials we have, along with the knowledge of how much raw material is used by the different processes.\n",
    "\n",
    "## Create a model\n",
    "First we import the necessary tools and create the model object"
   ]
  },
  {
   "cell_type": "code",
   "execution_count": 33,
   "metadata": {},
   "outputs": [],
   "source": [
    "import gurobipy as gp\n",
    "from gurobipy import GRB\n",
    "\n",
    "model = gp.Model()"
   ]
  },
  {
   "attachments": {},
   "cell_type": "markdown",
   "metadata": {},
   "source": [
    "## Variables and constraints\n",
    "We then add our variables to the model, such that the optimization can happen. The constraints are set by the table shown earlier."
   ]
  },
  {
   "cell_type": "code",
   "execution_count": 35,
   "metadata": {},
   "outputs": [
    {
     "data": {
      "text/plain": [
       "<gurobi.Constr *Awaiting Model Update*>"
      ]
     },
     "execution_count": 35,
     "metadata": {},
     "output_type": "execute_result"
    }
   ],
   "source": [
    "pennies = model.addVar(vtype=GRB.INTEGER, name=\"Pennies\")\n",
    "nickels = model.addVar(vtype=GRB.INTEGER, name=\"Nickels\")\n",
    "dimes = model.addVar(vtype=GRB.INTEGER, name=\"Dimes\")\n",
    "quarters = model.addVar(vtype=GRB.INTEGER, name=\"Quarters\")\n",
    "dollars = model.addVar(vtype=GRB.INTEGER, name=\"Dollars\")\n",
    "\n",
    "copper = model.addVar(vtype=GRB.CONTINUOUS, name=\"Copper\")\n",
    "nickel = model.addVar(vtype=GRB.CONTINUOUS, name=\"Nickel\")\n",
    "zinc = model.addVar(vtype=GRB.CONTINUOUS, name=\"Zinc\")\n",
    "manganese = model.addVar(vtype=GRB.CONTINUOUS, name=\"Manganese\")\n",
    "\n",
    "model.addConstr(0.06*pennies + 3.8*nickels + 2.1*dimes + 5.2 * quarters + 7.2 * dollars == copper)\n",
    "model.addConstr(1.2*nickels + 0.2*dimes + 0.5*quarters + 0.2*dollars == nickel)\n",
    "model.addConstr(2.4*pennies + 0.5*dollars == zinc)\n",
    "model.addConstr(0.3*dollars == manganese)\n",
    "\n",
    "model.addConstr(copper <= 1000)\n",
    "model.addConstr(nickel <= 50)\n",
    "model.addConstr(zinc <= 50)\n",
    "model.addConstr(manganese <= 50)"
   ]
  },
  {
   "attachments": {},
   "cell_type": "markdown",
   "metadata": {},
   "source": [
    "## Setting the objective function and optimizing\n",
    "We then set the objective function based on the value of the individual coins against the US dollar"
   ]
  },
  {
   "cell_type": "code",
   "execution_count": 36,
   "metadata": {},
   "outputs": [
    {
     "name": "stdout",
     "output_type": "stream",
     "text": [
      "Gurobi Optimizer version 10.0.1 build v10.0.1rc0 (linux64)\n",
      "\n",
      "CPU model: 12th Gen Intel(R) Core(TM) i5-12500H, instruction set [SSE2|AVX|AVX2]\n",
      "Thread count: 16 physical cores, 16 logical processors, using up to 16 threads\n",
      "\n",
      "Optimize a model with 16 rows, 18 columns and 40 nonzeros\n",
      "Model fingerprint: 0x1344c349\n",
      "Variable types: 8 continuous, 10 integer (0 binary)\n",
      "Coefficient statistics:\n",
      "  Matrix range     [6e-02, 7e+00]\n",
      "  Objective range  [1e-02, 1e+00]\n",
      "  Bounds range     [0e+00, 0e+00]\n",
      "  RHS range        [5e+01, 1e+03]\n",
      "Found heuristic solution: objective -0.0000000\n",
      "Presolve removed 13 rows and 14 columns\n",
      "Presolve time: 0.00s\n",
      "Presolved: 3 rows, 4 columns, 9 nonzeros\n",
      "Variable types: 0 continuous, 4 integer (0 binary)\n",
      "Found heuristic solution: objective 26.1000000\n",
      "\n",
      "Root relaxation: objective 1.134615e+02, 2 iterations, 0.00 seconds (0.00 work units)\n",
      "\n",
      "    Nodes    |    Current Node    |     Objective Bounds      |     Work\n",
      " Expl Unexpl |  Obj  Depth IntInf | Incumbent    BestBd   Gap | It/Node Time\n",
      "\n",
      "     0     0  113.46154    0    1   26.10000  113.46154   335%     -    0s\n",
      "H    0     0                     113.3000000  113.46154  0.14%     -    0s\n",
      "H    0     0                     113.4500000  113.46154  0.01%     -    0s\n",
      "     0     0  113.46154    0    1  113.45000  113.46154  0.01%     -    0s\n",
      "\n",
      "Explored 1 nodes (2 simplex iterations) in 0.01 seconds (0.00 work units)\n",
      "Thread count was 16 (of 16 available processors)\n",
      "\n",
      "Solution count 4: 113.45 113.3 26.1 -0 \n",
      "\n",
      "Optimal solution found (tolerance 1.00e-04)\n",
      "Best objective 1.134500000000e+02, best bound 1.134500000000e+02, gap 0.0000%\n"
     ]
    }
   ],
   "source": [
    "model.setObjective(0.01*pennies + 0.05*nickels + 0.1*dimes + 0.25*quarters + 1*dollars, GRB.MAXIMIZE)\n",
    "model.optimize()"
   ]
  },
  {
   "cell_type": "code",
   "execution_count": 38,
   "metadata": {},
   "outputs": [
    {
     "name": "stdout",
     "output_type": "stream",
     "text": [
      "Optimal solution achieved with objective value 113.45\n",
      "This is achieved by using 0.0 pennies, -0.0 nickels, 2.0 dimes, 53.0 quarters, and 100.0 dollars\n",
      "This results in 999.8 grams of copper, 46.9 grams of nickel, 50.0 grams of zinc, and 30.0 grams of manganese\n"
     ]
    }
   ],
   "source": [
    "print(f\"Optimal solution achieved with objective value {model.objVal}\")\n",
    "print(f\"This is achieved by using {pennies.x} pennies, {nickels.x} nickels, {dimes.x} dimes, {quarters.x} quarters, and {dollars.x} dollars\")\n",
    "print(f\"This results in {copper.x} grams of copper, {nickel.x} grams of nickel, {zinc.x} grams of zinc, and {manganese.x} grams of manganese\")"
   ]
  }
 ],
 "metadata": {
  "kernelspec": {
   "display_name": "venv",
   "language": "python",
   "name": "python3"
  },
  "language_info": {
   "codemirror_mode": {
    "name": "ipython",
    "version": 3
   },
   "file_extension": ".py",
   "mimetype": "text/x-python",
   "name": "python",
   "nbconvert_exporter": "python",
   "pygments_lexer": "ipython3",
   "version": "3.8.10"
  },
  "orig_nbformat": 4
 },
 "nbformat": 4,
 "nbformat_minor": 2
}
